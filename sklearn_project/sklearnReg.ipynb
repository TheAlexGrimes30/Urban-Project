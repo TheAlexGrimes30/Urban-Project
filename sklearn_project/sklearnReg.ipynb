{
 "cells": [
  {
   "cell_type": "markdown",
   "source": [
    "# Задача регрессии в scikit-learn"
   ],
   "metadata": {
    "collapsed": false
   },
   "id": "60daf31bbf8eda5d"
  },
  {
   "cell_type": "code",
   "execution_count": 11,
   "outputs": [],
   "source": [
    "from sklearn.datasets import fetch_california_housing\n",
    "from sklearn.model_selection import train_test_split, KFold, GridSearchCV\n",
    "from sklearn.neighbors import KNeighborsRegressor\n",
    "from sklearn.metrics import mean_squared_error\n",
    "import numpy as np\n",
    "from sklearn.linear_model import LinearRegression\n",
    "from sklearn.ensemble import AdaBoostRegressor"
   ],
   "metadata": {
    "collapsed": false,
    "ExecuteTime": {
     "end_time": "2024-07-03T06:51:19.879365500Z",
     "start_time": "2024-07-03T06:51:19.741354Z"
    }
   },
   "id": "5fcda401c661165f"
  },
  {
   "cell_type": "code",
   "execution_count": 12,
   "outputs": [],
   "source": [
    "data = fetch_california_housing()\n",
    "X, y = data.data, data.target\n",
    "\n",
    "X_train, X_test, y_train, y_test = train_test_split(X, y, test_size=0.2, random_state=42)\n",
    "cv = KFold(n_splits=5)"
   ],
   "metadata": {
    "collapsed": false,
    "ExecuteTime": {
     "end_time": "2024-07-03T06:51:19.882356400Z",
     "start_time": "2024-07-03T06:51:19.750362400Z"
    }
   },
   "id": "b1f36ccf28a776cb"
  },
  {
   "cell_type": "markdown",
   "source": [
    "### Модель K ближайших соседей"
   ],
   "metadata": {
    "collapsed": false
   },
   "id": "4de5227b869f4968"
  },
  {
   "cell_type": "code",
   "execution_count": 13,
   "outputs": [
    {
     "name": "stdout",
     "output_type": "stream",
     "text": [
      "K Neighbors Root Mean Squared Error: 0.9753297510179457\n"
     ]
    }
   ],
   "source": [
    "k_model = KNeighborsRegressor()\n",
    "\n",
    "param_grid = {\n",
    "    'n_neighbors': [3, 5, 7, 9, 11],\n",
    "    'weights': ['uniform', 'distance'],\n",
    "    'metric': ['euclidean', 'manhattan', 'minkowski']\n",
    "}\n",
    "\n",
    "grid_search = GridSearchCV(estimator=k_model, param_grid=param_grid, cv=cv, n_jobs=-1, scoring='neg_mean_squared_error')\n",
    "grid_search.fit(X_train, y_train)\n",
    "\n",
    "best_model = grid_search.best_estimator_\n",
    "y_pred = best_model.predict(X_test)\n",
    "\n",
    "mse = mean_squared_error(y_test, y_pred)\n",
    "rmse = np.sqrt(mse)\n",
    "print(f'K Neighbors Root Mean Squared Error: {rmse}')"
   ],
   "metadata": {
    "collapsed": false,
    "ExecuteTime": {
     "end_time": "2024-07-03T06:51:24.430355200Z",
     "start_time": "2024-07-03T06:51:19.800359Z"
    }
   },
   "id": "1aca1b570b1a0d3c"
  },
  {
   "cell_type": "markdown",
   "source": [
    "### Линейная регрессия"
   ],
   "metadata": {
    "collapsed": false
   },
   "id": "a73e791590442b32"
  },
  {
   "cell_type": "code",
   "execution_count": 14,
   "outputs": [
    {
     "name": "stdout",
     "output_type": "stream",
     "text": [
      "Linear Regression Root Mean Squared Error: 0.7455813830127751\n"
     ]
    }
   ],
   "source": [
    "linear_model = LinearRegression()\n",
    "\n",
    "linear_model.fit(X_train, y_train)\n",
    "y_pred = linear_model.predict(X_test)\n",
    "\n",
    "mse = mean_squared_error(y_test, y_pred)\n",
    "rmse = np.sqrt(mse)\n",
    "print(f'Linear Regression Root Mean Squared Error: {rmse}')"
   ],
   "metadata": {
    "collapsed": false,
    "ExecuteTime": {
     "end_time": "2024-07-03T06:51:24.511356700Z",
     "start_time": "2024-07-03T06:51:24.428351400Z"
    }
   },
   "id": "25b8456034cb540a"
  },
  {
   "cell_type": "markdown",
   "source": [
    "### AdaBoost"
   ],
   "metadata": {
    "collapsed": false
   },
   "id": "81bf02ef43198b1f"
  },
  {
   "cell_type": "code",
   "execution_count": 15,
   "outputs": [
    {
     "name": "stdout",
     "output_type": "stream",
     "text": [
      "AdaBoost Root Mean Squared Error: 0.7547016906901484\n"
     ]
    }
   ],
   "source": [
    "ada_boost = AdaBoostRegressor()\n",
    "\n",
    "param_grid = {\n",
    "    'n_estimators': [50, 100, 150, 200],\n",
    "    'learning_rate': [0.01, 0.1, 0.5, 1.0]\n",
    "}\n",
    "\n",
    "grid_search = GridSearchCV(estimator=ada_boost, param_grid=param_grid, cv=cv, n_jobs=-1, scoring='neg_mean_squared_error')\n",
    "grid_search.fit(X_train, y_train)\n",
    "\n",
    "best_model = grid_search.best_estimator_\n",
    "y_pred = best_model.predict(X_test)\n",
    "\n",
    "mse = mean_squared_error(y_test, y_pred)\n",
    "rmse = np.sqrt(mse)\n",
    "print(f'AdaBoost Root Mean Squared Error: {rmse}')"
   ],
   "metadata": {
    "collapsed": false,
    "ExecuteTime": {
     "end_time": "2024-07-03T06:52:10.684696900Z",
     "start_time": "2024-07-03T06:51:24.475351900Z"
    }
   },
   "id": "7f9e0a7de157bdc5"
  }
 ],
 "metadata": {
  "kernelspec": {
   "display_name": "Python 3",
   "language": "python",
   "name": "python3"
  },
  "language_info": {
   "codemirror_mode": {
    "name": "ipython",
    "version": 2
   },
   "file_extension": ".py",
   "mimetype": "text/x-python",
   "name": "python",
   "nbconvert_exporter": "python",
   "pygments_lexer": "ipython2",
   "version": "2.7.6"
  }
 },
 "nbformat": 4,
 "nbformat_minor": 5
}
