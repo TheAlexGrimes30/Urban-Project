{
 "cells": [
  {
   "cell_type": "markdown",
   "source": [
    "# Задача регрессии с TensorFlow"
   ],
   "metadata": {
    "collapsed": false
   },
   "id": "c32202d1eee591c"
  },
  {
   "cell_type": "code",
   "execution_count": 1,
   "outputs": [
    {
     "name": "stdout",
     "output_type": "stream",
     "text": [
      "WARNING:tensorflow:From C:\\Users\\sagop\\venv\\lib\\site-packages\\keras\\src\\losses.py:2976: The name tf.losses.sparse_softmax_cross_entropy is deprecated. Please use tf.compat.v1.losses.sparse_softmax_cross_entropy instead.\n"
     ]
    }
   ],
   "source": [
    "from sklearn.datasets import fetch_california_housing\n",
    "from sklearn.preprocessing import StandardScaler\n",
    "from sklearn.model_selection import train_test_split\n",
    "from sklearn.metrics import mean_squared_error\n",
    "import tensorflow as tf"
   ],
   "metadata": {
    "collapsed": false,
    "ExecuteTime": {
     "end_time": "2024-07-03T16:07:35.570609400Z",
     "start_time": "2024-07-03T16:07:25.304343100Z"
    }
   },
   "id": "c4d035eb58c0fe69"
  },
  {
   "cell_type": "code",
   "execution_count": 2,
   "outputs": [],
   "source": [
    "data = fetch_california_housing()\n",
    "X, y = data.data, data.target\n",
    "\n",
    "scaler = StandardScaler()\n",
    "X = scaler.fit_transform(X)\n",
    "\n",
    "X_train, X_test, y_train, y_test = train_test_split(X, y, test_size=0.2, random_state=42)"
   ],
   "metadata": {
    "collapsed": false,
    "ExecuteTime": {
     "end_time": "2024-07-03T16:07:35.872708500Z",
     "start_time": "2024-07-03T16:07:35.632631500Z"
    }
   },
   "id": "b79460d28359c52c"
  },
  {
   "cell_type": "markdown",
   "source": [
    "# Построение модели регрессии"
   ],
   "metadata": {
    "collapsed": false
   },
   "id": "4591780e6b3c7862"
  },
  {
   "cell_type": "code",
   "execution_count": 3,
   "outputs": [
    {
     "name": "stdout",
     "output_type": "stream",
     "text": [
      "WARNING:tensorflow:From C:\\Users\\sagop\\venv\\lib\\site-packages\\keras\\src\\backend.py:873: The name tf.get_default_graph is deprecated. Please use tf.compat.v1.get_default_graph instead.\n",
      "WARNING:tensorflow:From C:\\Users\\sagop\\venv\\lib\\site-packages\\keras\\src\\optimizers\\__init__.py:309: The name tf.train.Optimizer is deprecated. Please use tf.compat.v1.train.Optimizer instead.\n",
      "Epoch 1/50\n",
      "WARNING:tensorflow:From C:\\Users\\sagop\\venv\\lib\\site-packages\\keras\\src\\utils\\tf_utils.py:492: The name tf.ragged.RaggedTensorValue is deprecated. Please use tf.compat.v1.ragged.RaggedTensorValue instead.\n",
      "516/516 [==============================] - 2s 2ms/step - loss: 0.7742 - root_mean_squared_error: 0.8799\n",
      "Epoch 2/50\n",
      "516/516 [==============================] - 1s 2ms/step - loss: 0.4179 - root_mean_squared_error: 0.6464\n",
      "Epoch 3/50\n",
      "516/516 [==============================] - 1s 2ms/step - loss: 0.3662 - root_mean_squared_error: 0.6051\n",
      "Epoch 4/50\n",
      "516/516 [==============================] - 1s 2ms/step - loss: 0.3487 - root_mean_squared_error: 0.5905\n",
      "Epoch 5/50\n",
      "516/516 [==============================] - 1s 2ms/step - loss: 0.3411 - root_mean_squared_error: 0.5840\n",
      "Epoch 6/50\n",
      "516/516 [==============================] - 1s 2ms/step - loss: 0.3246 - root_mean_squared_error: 0.5697\n",
      "Epoch 7/50\n",
      "516/516 [==============================] - 1s 2ms/step - loss: 0.3128 - root_mean_squared_error: 0.5592\n",
      "Epoch 8/50\n",
      "516/516 [==============================] - 1s 2ms/step - loss: 0.3104 - root_mean_squared_error: 0.5572\n",
      "Epoch 9/50\n",
      "516/516 [==============================] - 1s 2ms/step - loss: 0.3102 - root_mean_squared_error: 0.5570\n",
      "Epoch 10/50\n",
      "516/516 [==============================] - 1s 2ms/step - loss: 0.2992 - root_mean_squared_error: 0.5470\n",
      "Epoch 11/50\n",
      "516/516 [==============================] - 1s 2ms/step - loss: 0.2976 - root_mean_squared_error: 0.5455\n",
      "Epoch 12/50\n",
      "516/516 [==============================] - 1s 2ms/step - loss: 0.2916 - root_mean_squared_error: 0.5400\n",
      "Epoch 13/50\n",
      "516/516 [==============================] - 1s 2ms/step - loss: 0.2895 - root_mean_squared_error: 0.5381\n",
      "Epoch 14/50\n",
      "516/516 [==============================] - 1s 2ms/step - loss: 0.2852 - root_mean_squared_error: 0.5340\n",
      "Epoch 15/50\n",
      "516/516 [==============================] - 1s 2ms/step - loss: 0.2867 - root_mean_squared_error: 0.5355\n",
      "Epoch 16/50\n",
      "516/516 [==============================] - 1s 2ms/step - loss: 0.2890 - root_mean_squared_error: 0.5376\n",
      "Epoch 17/50\n",
      "516/516 [==============================] - 1s 2ms/step - loss: 0.2792 - root_mean_squared_error: 0.5284\n",
      "Epoch 18/50\n",
      "516/516 [==============================] - 1s 2ms/step - loss: 0.2775 - root_mean_squared_error: 0.5268\n",
      "Epoch 19/50\n",
      "516/516 [==============================] - 1s 2ms/step - loss: 0.2755 - root_mean_squared_error: 0.5249\n",
      "Epoch 20/50\n",
      "516/516 [==============================] - 1s 2ms/step - loss: 0.2707 - root_mean_squared_error: 0.5203\n",
      "Epoch 21/50\n",
      "516/516 [==============================] - 1s 2ms/step - loss: 0.2736 - root_mean_squared_error: 0.5231\n",
      "Epoch 22/50\n",
      "516/516 [==============================] - 1s 2ms/step - loss: 0.2723 - root_mean_squared_error: 0.5218\n",
      "Epoch 23/50\n",
      "516/516 [==============================] - 1s 2ms/step - loss: 0.2669 - root_mean_squared_error: 0.5166\n",
      "Epoch 24/50\n",
      "516/516 [==============================] - 1s 2ms/step - loss: 0.2692 - root_mean_squared_error: 0.5188\n",
      "Epoch 25/50\n",
      "516/516 [==============================] - 1s 2ms/step - loss: 0.2661 - root_mean_squared_error: 0.5158\n",
      "Epoch 26/50\n",
      "516/516 [==============================] - 1s 2ms/step - loss: 0.2627 - root_mean_squared_error: 0.5125\n",
      "Epoch 27/50\n",
      "516/516 [==============================] - 1s 2ms/step - loss: 0.2602 - root_mean_squared_error: 0.5101\n",
      "Epoch 28/50\n",
      "516/516 [==============================] - 1s 2ms/step - loss: 0.2641 - root_mean_squared_error: 0.5139\n",
      "Epoch 29/50\n",
      "516/516 [==============================] - 1s 2ms/step - loss: 0.2614 - root_mean_squared_error: 0.5113\n",
      "Epoch 30/50\n",
      "516/516 [==============================] - 1s 2ms/step - loss: 0.2587 - root_mean_squared_error: 0.5086\n",
      "Epoch 31/50\n",
      "516/516 [==============================] - 1s 2ms/step - loss: 0.2575 - root_mean_squared_error: 0.5074\n",
      "Epoch 32/50\n",
      "516/516 [==============================] - 1s 2ms/step - loss: 0.2569 - root_mean_squared_error: 0.5068\n",
      "Epoch 33/50\n",
      "516/516 [==============================] - 1s 2ms/step - loss: 0.2560 - root_mean_squared_error: 0.5060\n",
      "Epoch 34/50\n",
      "516/516 [==============================] - 1s 2ms/step - loss: 0.2548 - root_mean_squared_error: 0.5048\n",
      "Epoch 35/50\n",
      "516/516 [==============================] - 1s 2ms/step - loss: 0.2534 - root_mean_squared_error: 0.5034\n",
      "Epoch 36/50\n",
      "516/516 [==============================] - 1s 2ms/step - loss: 0.2527 - root_mean_squared_error: 0.5027\n",
      "Epoch 37/50\n",
      "516/516 [==============================] - 1s 2ms/step - loss: 0.2520 - root_mean_squared_error: 0.5020\n",
      "Epoch 38/50\n",
      "516/516 [==============================] - 1s 2ms/step - loss: 0.2546 - root_mean_squared_error: 0.5046\n",
      "Epoch 39/50\n",
      "516/516 [==============================] - 1s 2ms/step - loss: 0.2483 - root_mean_squared_error: 0.4983\n",
      "Epoch 40/50\n",
      "516/516 [==============================] - 1s 2ms/step - loss: 0.2475 - root_mean_squared_error: 0.4975\n",
      "Epoch 41/50\n",
      "516/516 [==============================] - 1s 2ms/step - loss: 0.2475 - root_mean_squared_error: 0.4975\n",
      "Epoch 42/50\n",
      "516/516 [==============================] - 1s 2ms/step - loss: 0.2486 - root_mean_squared_error: 0.4986\n",
      "Epoch 43/50\n",
      "516/516 [==============================] - 1s 2ms/step - loss: 0.2470 - root_mean_squared_error: 0.4970\n",
      "Epoch 44/50\n",
      "516/516 [==============================] - 1s 2ms/step - loss: 0.2458 - root_mean_squared_error: 0.4958\n",
      "Epoch 45/50\n",
      "516/516 [==============================] - 1s 2ms/step - loss: 0.2419 - root_mean_squared_error: 0.4918\n",
      "Epoch 46/50\n",
      "516/516 [==============================] - 1s 2ms/step - loss: 0.2441 - root_mean_squared_error: 0.4941\n",
      "Epoch 47/50\n",
      "516/516 [==============================] - 1s 2ms/step - loss: 0.2414 - root_mean_squared_error: 0.4913\n",
      "Epoch 48/50\n",
      "516/516 [==============================] - 1s 2ms/step - loss: 0.2429 - root_mean_squared_error: 0.4929\n",
      "Epoch 49/50\n",
      "516/516 [==============================] - 1s 2ms/step - loss: 0.2412 - root_mean_squared_error: 0.4911\n",
      "Epoch 50/50\n",
      "516/516 [==============================] - 1s 2ms/step - loss: 0.2391 - root_mean_squared_error: 0.4889\n",
      "129/129 [==============================] - 0s 2ms/step\n",
      "Test RMSE: 0.52\n"
     ]
    }
   ],
   "source": [
    "model = tf.keras.models.Sequential([\n",
    "    tf.keras.layers.Dense(64, activation='relu', input_shape=(X_train.shape[1],)),\n",
    "    tf.keras.layers.Dense(64, activation='relu'),\n",
    "    tf.keras.layers.Dense(1)  \n",
    "])\n",
    "\n",
    "model.compile(optimizer='adam', loss='mean_squared_error', metrics=[tf.keras.metrics.RootMeanSquaredError()])\n",
    "\n",
    "model.fit(X_train, y_train, epochs=50, batch_size=32, verbose=1)\n",
    "\n",
    "y_pred = model.predict(X_test)\n",
    "mse = mean_squared_error(y_test, y_pred)\n",
    "rmse = tf.sqrt(mse).numpy()\n",
    "print(f'Test RMSE: {rmse:.2f}')"
   ],
   "metadata": {
    "collapsed": false,
    "ExecuteTime": {
     "end_time": "2024-07-03T16:08:22.433706700Z",
     "start_time": "2024-07-03T16:07:35.872708500Z"
    }
   },
   "id": "331d1bb357db6450"
  }
 ],
 "metadata": {
  "kernelspec": {
   "display_name": "Python 3",
   "language": "python",
   "name": "python3"
  },
  "language_info": {
   "codemirror_mode": {
    "name": "ipython",
    "version": 2
   },
   "file_extension": ".py",
   "mimetype": "text/x-python",
   "name": "python",
   "nbconvert_exporter": "python",
   "pygments_lexer": "ipython2",
   "version": "2.7.6"
  }
 },
 "nbformat": 4,
 "nbformat_minor": 5
}
