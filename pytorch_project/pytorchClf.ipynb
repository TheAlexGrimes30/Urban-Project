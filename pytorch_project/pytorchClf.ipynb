{
 "cells": [
  {
   "cell_type": "markdown",
   "source": [
    "# Задача классификации Pytorch"
   ],
   "metadata": {
    "collapsed": false
   },
   "id": "d2827fd04a7f5a64"
  },
  {
   "cell_type": "code",
   "execution_count": 4,
   "outputs": [],
   "source": [
    "from sklearn.datasets import load_breast_cancer\n",
    "from sklearn.model_selection import train_test_split\n",
    "import torch\n",
    "import torch.nn as nn\n",
    "import torch.optim as optim\n",
    "from torch.utils.data import TensorDataset, DataLoader\n",
    "from sklearn.metrics import accuracy_score, classification_report"
   ],
   "metadata": {
    "collapsed": false,
    "ExecuteTime": {
     "end_time": "2024-07-03T13:11:12.952075900Z",
     "start_time": "2024-07-03T13:11:12.499075900Z"
    }
   },
   "id": "f530282cce092afd"
  },
  {
   "cell_type": "code",
   "execution_count": 5,
   "outputs": [],
   "source": [
    "data = load_breast_cancer()\n",
    "X, y = data.data, data.target\n",
    "\n",
    "X_train, X_test, y_train, y_test = train_test_split(X, y, test_size=0.2, random_state=42)\n",
    "\n",
    "X_train_torch = torch.tensor(X_train, dtype=torch.float32)\n",
    "y_train_torch = torch.tensor(y_train, dtype=torch.long)\n",
    "X_test_torch = torch.tensor(X_test, dtype=torch.float32)\n",
    "y_test_torch = torch.tensor(y_test, dtype=torch.long)"
   ],
   "metadata": {
    "collapsed": false,
    "ExecuteTime": {
     "end_time": "2024-07-03T13:11:13.649074100Z",
     "start_time": "2024-07-03T13:11:12.979075400Z"
    }
   },
   "id": "f040dabc78cca4c5"
  },
  {
   "cell_type": "markdown",
   "source": [
    "### Создание модели классификации"
   ],
   "metadata": {
    "collapsed": false
   },
   "id": "4b862b323cfe63b4"
  },
  {
   "cell_type": "code",
   "execution_count": 6,
   "outputs": [
    {
     "name": "stdout",
     "output_type": "stream",
     "text": [
      "Accuracy: 0.39\n",
      "              precision    recall  f1-score   support\n",
      "\n",
      "   malignant       0.38      1.00      0.55        43\n",
      "      benign       1.00      0.03      0.05        71\n",
      "\n",
      "    accuracy                           0.39       114\n",
      "   macro avg       0.69      0.51      0.30       114\n",
      "weighted avg       0.77      0.39      0.24       114\n"
     ]
    }
   ],
   "source": [
    "class Model(nn.Module):\n",
    "    def __init__(self):\n",
    "        super(Model, self).__init__()\n",
    "        self.fc1 = nn.Linear(X_train.shape[1], 64)\n",
    "        self.fc2 = nn.Linear(64, 2)\n",
    "        \n",
    "    def forward(self, x):\n",
    "        x = torch.relu(self.fc1(x))\n",
    "        x = self.fc2(x)\n",
    "        return x\n",
    "    \n",
    "model = Model()\n",
    "optimizer = optim.Adam(model.parameters(), lr=0.001)\n",
    "criterion = nn.CrossEntropyLoss()\n",
    "\n",
    "def train_model(model, X, y, optimizer, criterion, epochs=100, batch_size=16):\n",
    "    dataset = TensorDataset(X, y)\n",
    "    loader = DataLoader(dataset, batch_size=batch_size, shuffle=True)\n",
    "    \n",
    "    for epoch in range(epochs):\n",
    "        for inputs, labels in loader:\n",
    "            optimizer.zero_grad()\n",
    "            outputs = model(inputs)\n",
    "            loss = criterion(outputs, labels)\n",
    "            loss.backward()\n",
    "            \n",
    "def evaluate_model(model, X_test, y_test):\n",
    "    outputs = model(X_test)\n",
    "    _, predicted = torch.max(outputs, 1)\n",
    "    accuracy = accuracy_score(y_test.numpy(), predicted.numpy())\n",
    "    print(f'Accuracy: {accuracy:.2f}')\n",
    "    print(classification_report(y_test.numpy(), predicted.numpy(), target_names=data.target_names))\n",
    "    \n",
    "train_model(model, X_train_torch, y_train_torch, optimizer, criterion)\n",
    "evaluate_model(model, X_test_torch, y_test_torch)"
   ],
   "metadata": {
    "collapsed": false,
    "ExecuteTime": {
     "end_time": "2024-07-03T13:11:19.219074400Z",
     "start_time": "2024-07-03T13:11:13.663073900Z"
    }
   },
   "id": "a6a42e3562ef3336"
  }
 ],
 "metadata": {
  "kernelspec": {
   "display_name": "Python 3",
   "language": "python",
   "name": "python3"
  },
  "language_info": {
   "codemirror_mode": {
    "name": "ipython",
    "version": 2
   },
   "file_extension": ".py",
   "mimetype": "text/x-python",
   "name": "python",
   "nbconvert_exporter": "python",
   "pygments_lexer": "ipython2",
   "version": "2.7.6"
  }
 },
 "nbformat": 4,
 "nbformat_minor": 5
}
